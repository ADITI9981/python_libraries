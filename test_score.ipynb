{
 "cells": [
  {
   "cell_type": "code",
   "execution_count": 17,
   "id": "d8f1c5e7-dcfc-4613-9a22-3823b91fffc4",
   "metadata": {},
   "outputs": [],
   "source": [
    "import numpy as np\n",
    "import pandas as pd\n",
    "import math\n",
    "from sklearn import linear_model"
   ]
  },
  {
   "cell_type": "code",
   "execution_count": 18,
   "id": "be3dcf82-f86f-489b-8f67-05feed9034ac",
   "metadata": {},
   "outputs": [],
   "source": [
    "def predict_by_linear(x,y):\n",
    "    df=pd.read_csv(r\"C:\\Users\\DELL\\Downloads\\test_scores.csv\")\n",
    "    reg=linear_model.LinearRegression()\n",
    "    reg.fit(df[['math']],df.cs)\n",
    "    return reg.coef_,reg.intercept_\n",
    "    "
   ]
  },
  {
   "cell_type": "code",
   "execution_count": 22,
   "id": "cbffd7fb-22ec-42e4-8420-9d02a390ccff",
   "metadata": {},
   "outputs": [],
   "source": [
    "def gradient_decent(x,y):\n",
    "    m_curr = b_curr = 0\n",
    "    iteration = 10\n",
    "    n=len(x)\n",
    "    learning_rate = 0.001\n",
    "    cost_previous = 0\n",
    "    for i in range(iteration):\n",
    "         y_predicted = m_curr*x + b_curr\n",
    "         cost = (1/n)*sum([val**2 for val in (y-y_predicted)])\n",
    "         md = -(2/n)*sum(x*(y-y_predicted))\n",
    "         bd = -(2/n)*sum(y-y_predicted)\n",
    "         m_curr = m_curr - learning_rate * md\n",
    "         b_curr = b_curr - learning_rate * bd\n",
    "         if math.isclose(cost, cost_previous, rel_tol=1e-20):\n",
    "            break\n",
    "         cost_previous = cost\n",
    "         print (\"m {}, b {}, cost {}, iteration {}\".format(m_curr,b_curr,cost, i))\n",
    "\n",
    "    return m_curr,b_curr\n",
    "\n",
    "         \n",
    "\n",
    "         \n",
    "   "
   ]
  },
  {
   "cell_type": "code",
   "execution_count": 1,
   "id": "acbbb270-a8ed-4fcf-a3b3-95146a46062a",
   "metadata": {},
   "outputs": [],
   "source": [
    "if __name__ == \"main\":\n",
    "    x = np.array(df.math)\n",
    "    y = np.array(df.cs)\n",
    "    m,b = gradient_decent(x,y)\n",
    "    print(\"Using gradient descent function: Coef {} Intercept {}\".format(m, b))\n",
    "    m_sklearn,b_sklearn = predict_by_linear(x,y)\n",
    "    print(\"Using sklearn function: Coef {} Intercept {}\".format(m_sklearn, b_sklearn))\n",
    "    "
   ]
  },
  {
   "cell_type": "code",
   "execution_count": null,
   "id": "f79ea5d9-e91c-4674-b199-daa83accb6f3",
   "metadata": {},
   "outputs": [],
   "source": []
  },
  {
   "cell_type": "code",
   "execution_count": null,
   "id": "2c86bbec-4cfe-49c1-9b55-2093691cd792",
   "metadata": {},
   "outputs": [],
   "source": []
  },
  {
   "cell_type": "code",
   "execution_count": null,
   "id": "86ac1a40-5543-461c-a171-fef2a76a09f0",
   "metadata": {},
   "outputs": [],
   "source": []
  }
 ],
 "metadata": {
  "kernelspec": {
   "display_name": "Python 3 (ipykernel)",
   "language": "python",
   "name": "python3"
  },
  "language_info": {
   "codemirror_mode": {
    "name": "ipython",
    "version": 3
   },
   "file_extension": ".py",
   "mimetype": "text/x-python",
   "name": "python",
   "nbconvert_exporter": "python",
   "pygments_lexer": "ipython3",
   "version": "3.11.7"
  },
  "widgets": {
   "application/vnd.jupyter.widget-state+json": {
    "state": {},
    "version_major": 2,
    "version_minor": 0
   }
  }
 },
 "nbformat": 4,
 "nbformat_minor": 5
}
